{
  "nbformat": 4,
  "nbformat_minor": 0,
  "metadata": {
    "colab": {
      "provenance": [],
      "authorship_tag": "ABX9TyMpxj1AvGeJIDWQuA3S+2Xq",
      "include_colab_link": true
    },
    "kernelspec": {
      "name": "python3",
      "display_name": "Python 3"
    },
    "language_info": {
      "name": "python"
    }
  },
  "cells": [
    {
      "cell_type": "markdown",
      "metadata": {
        "id": "view-in-github",
        "colab_type": "text"
      },
      "source": [
        "<a href=\"https://colab.research.google.com/github/vishnu-nitc/NLP-Chatbot/blob/main/nlp_chatbot.ipynb\" target=\"_parent\"><img src=\"https://colab.research.google.com/assets/colab-badge.svg\" alt=\"Open In Colab\"/></a>"
      ]
    },
    {
      "cell_type": "code",
      "execution_count": 1,
      "metadata": {
        "colab": {
          "base_uri": "https://localhost:8080/"
        },
        "id": "F1xBjr2qgSGD",
        "outputId": "7d2479d2-73a9-48d8-c3bf-6d4c7092fe3e"
      },
      "outputs": [
        {
          "output_type": "stream",
          "name": "stdout",
          "text": [
            "--2022-12-19 01:12:17--  https://raw.githubusercontent.com/vishnu-nitc/NLP-Chatbot/main/archive/IHMStefanini_industrial_safety_and_health_database_with_accidents_description.csv\n",
            "Resolving raw.githubusercontent.com (raw.githubusercontent.com)... 185.199.111.133, 185.199.109.133, 185.199.108.133, ...\n",
            "Connecting to raw.githubusercontent.com (raw.githubusercontent.com)|185.199.111.133|:443... connected.\n",
            "HTTP request sent, awaiting response... 200 OK\n",
            "Length: 193631 (189K) [text/plain]\n",
            "Saving to: ‘IHMStefanini_industrial_safety_and_health_database_with_accidents_description.csv’\n",
            "\n",
            "\r          IHMStefan   0%[                    ]       0  --.-KB/s               \rIHMStefanini_indust 100%[===================>] 189.09K  --.-KB/s    in 0.005s  \n",
            "\n",
            "2022-12-19 01:12:17 (37.4 MB/s) - ‘IHMStefanini_industrial_safety_and_health_database_with_accidents_description.csv’ saved [193631/193631]\n",
            "\n"
          ]
        }
      ],
      "source": [
        "!wget https://raw.githubusercontent.com/vishnu-nitc/NLP-Chatbot/main/archive/IHMStefanini_industrial_safety_and_health_database_with_accidents_description.csv"
      ]
    },
    {
      "cell_type": "code",
      "source": [
        "import pandas as pd "
      ],
      "metadata": {
        "id": "7KlY5hgLhqru"
      },
      "execution_count": 2,
      "outputs": []
    },
    {
      "cell_type": "code",
      "source": [
        "df = pd.read_csv('/content/IHMStefanini_industrial_safety_and_health_database_with_accidents_description.csv')"
      ],
      "metadata": {
        "id": "GaE3G_VChvik"
      },
      "execution_count": 3,
      "outputs": []
    },
    {
      "cell_type": "code",
      "source": [
        "df.info()"
      ],
      "metadata": {
        "colab": {
          "base_uri": "https://localhost:8080/"
        },
        "id": "w7qus7RJh6ta",
        "outputId": "a2db770b-e0ae-463e-894a-9a26a479f3fc"
      },
      "execution_count": 4,
      "outputs": [
        {
          "output_type": "stream",
          "name": "stdout",
          "text": [
            "<class 'pandas.core.frame.DataFrame'>\n",
            "RangeIndex: 425 entries, 0 to 424\n",
            "Data columns (total 11 columns):\n",
            " #   Column                    Non-Null Count  Dtype \n",
            "---  ------                    --------------  ----- \n",
            " 0   Unnamed: 0                425 non-null    int64 \n",
            " 1   Data                      425 non-null    object\n",
            " 2   Countries                 425 non-null    object\n",
            " 3   Local                     425 non-null    object\n",
            " 4   Industry Sector           425 non-null    object\n",
            " 5   Accident Level            425 non-null    object\n",
            " 6   Potential Accident Level  425 non-null    object\n",
            " 7   Genre                     425 non-null    object\n",
            " 8   Employee or Third Party   425 non-null    object\n",
            " 9   Critical Risk             425 non-null    object\n",
            " 10  Description               425 non-null    object\n",
            "dtypes: int64(1), object(10)\n",
            "memory usage: 36.6+ KB\n"
          ]
        }
      ]
    },
    {
      "cell_type": "markdown",
      "source": [
        "- 425 Description"
      ],
      "metadata": {
        "id": "Ilxfb0CKk01f"
      }
    },
    {
      "cell_type": "code",
      "source": [
        "df.Data.value_counts()"
      ],
      "metadata": {
        "id": "9uFhdxpth8kj",
        "colab": {
          "base_uri": "https://localhost:8080/"
        },
        "outputId": "b6d054bc-7129-4b21-d47c-ce65d964c041"
      },
      "execution_count": 5,
      "outputs": [
        {
          "output_type": "execute_result",
          "data": {
            "text/plain": [
              "2017-02-08 00:00:00    6\n",
              "2016-06-16 00:00:00    5\n",
              "2016-10-03 00:00:00    4\n",
              "2017-06-11 00:00:00    4\n",
              "2016-06-08 00:00:00    4\n",
              "                      ..\n",
              "2016-07-18 00:00:00    1\n",
              "2016-07-20 00:00:00    1\n",
              "2016-07-21 00:00:00    1\n",
              "2016-07-23 00:00:00    1\n",
              "2017-07-09 00:00:00    1\n",
              "Name: Data, Length: 287, dtype: int64"
            ]
          },
          "metadata": {},
          "execution_count": 5
        }
      ]
    },
    {
      "cell_type": "markdown",
      "source": [
        "Data is a Date column"
      ],
      "metadata": {
        "id": "65WrAb0MlKCb"
      }
    },
    {
      "cell_type": "code",
      "source": [
        "df.Countries.value_counts()"
      ],
      "metadata": {
        "colab": {
          "base_uri": "https://localhost:8080/"
        },
        "id": "DQL9WynnlGpK",
        "outputId": "d3445c02-336e-4083-bbcf-d1ae0a770cb6"
      },
      "execution_count": 6,
      "outputs": [
        {
          "output_type": "execute_result",
          "data": {
            "text/plain": [
              "Country_01    251\n",
              "Country_02    130\n",
              "Country_03     44\n",
              "Name: Countries, dtype: int64"
            ]
          },
          "metadata": {},
          "execution_count": 6
        }
      ]
    },
    {
      "cell_type": "markdown",
      "source": [
        "Three distinct values "
      ],
      "metadata": {
        "id": "B46MxjpFlWWm"
      }
    },
    {
      "cell_type": "code",
      "source": [
        "df.Local.value_counts().sort_index()\n"
      ],
      "metadata": {
        "colab": {
          "base_uri": "https://localhost:8080/"
        },
        "id": "5uoW4z8OlUfh",
        "outputId": "c25a5a4c-5071-4cd3-fc3e-93e6bda0ad55"
      },
      "execution_count": 7,
      "outputs": [
        {
          "output_type": "execute_result",
          "data": {
            "text/plain": [
              "Local_01    57\n",
              "Local_02    24\n",
              "Local_03    90\n",
              "Local_04    56\n",
              "Local_05    59\n",
              "Local_06    46\n",
              "Local_07    14\n",
              "Local_08    27\n",
              "Local_09     2\n",
              "Local_10    44\n",
              "Local_11     2\n",
              "Local_12     4\n",
              "Name: Local, dtype: int64"
            ]
          },
          "metadata": {},
          "execution_count": 7
        }
      ]
    },
    {
      "cell_type": "markdown",
      "source": [
        "- 12 different Local values"
      ],
      "metadata": {
        "id": "GyUca3O8mXX9"
      }
    },
    {
      "cell_type": "code",
      "source": [
        "df['Industry Sector'].value_counts()"
      ],
      "metadata": {
        "colab": {
          "base_uri": "https://localhost:8080/"
        },
        "id": "SxEPcRVYmUtT",
        "outputId": "ebb4cee6-1f16-4167-bcb2-4442d820eeb9"
      },
      "execution_count": 8,
      "outputs": [
        {
          "output_type": "execute_result",
          "data": {
            "text/plain": [
              "Mining    241\n",
              "Metals    134\n",
              "Others     50\n",
              "Name: Industry Sector, dtype: int64"
            ]
          },
          "metadata": {},
          "execution_count": 8
        }
      ]
    },
    {
      "cell_type": "code",
      "source": [
        "df['Accident Level'].value_counts()"
      ],
      "metadata": {
        "colab": {
          "base_uri": "https://localhost:8080/"
        },
        "id": "9mKldzXdld6o",
        "outputId": "aa55620c-f5ed-42cc-d444-4e954bb73bea"
      },
      "execution_count": 9,
      "outputs": [
        {
          "output_type": "execute_result",
          "data": {
            "text/plain": [
              "I      316\n",
              "II      40\n",
              "III     31\n",
              "IV      30\n",
              "V        8\n",
              "Name: Accident Level, dtype: int64"
            ]
          },
          "metadata": {},
          "execution_count": 9
        }
      ]
    },
    {
      "cell_type": "markdown",
      "source": [
        "- 5 levels . skewed to level I"
      ],
      "metadata": {
        "id": "ei6Va1QWqOG9"
      }
    },
    {
      "cell_type": "code",
      "source": [
        "df['Potential Accident Level'].value_counts()"
      ],
      "metadata": {
        "colab": {
          "base_uri": "https://localhost:8080/"
        },
        "id": "_R6J2Vq8qHHI",
        "outputId": "d1d8b914-1703-4bd3-dc0d-ee07b4fcd5b0"
      },
      "execution_count": 10,
      "outputs": [
        {
          "output_type": "execute_result",
          "data": {
            "text/plain": [
              "IV     143\n",
              "III    106\n",
              "II      95\n",
              "I       49\n",
              "V       31\n",
              "VI       1\n",
              "Name: Potential Accident Level, dtype: int64"
            ]
          },
          "metadata": {},
          "execution_count": 10
        }
      ]
    },
    {
      "cell_type": "markdown",
      "source": [
        "- here 6 are there . only one value for level VI . most of them are level IV or III"
      ],
      "metadata": {
        "id": "cEhs9bR6qjKS"
      }
    },
    {
      "cell_type": "code",
      "source": [
        "df.Genre.value_counts()"
      ],
      "metadata": {
        "colab": {
          "base_uri": "https://localhost:8080/"
        },
        "id": "G6etMMgFqfZR",
        "outputId": "fb402424-a258-488e-a6b4-30b90e41404a"
      },
      "execution_count": 11,
      "outputs": [
        {
          "output_type": "execute_result",
          "data": {
            "text/plain": [
              "Male      403\n",
              "Female     22\n",
              "Name: Genre, dtype: int64"
            ]
          },
          "metadata": {},
          "execution_count": 11
        }
      ]
    },
    {
      "cell_type": "markdown",
      "source": [
        "Data Skewed two Male gender "
      ],
      "metadata": {
        "id": "7popGDl1q4AE"
      }
    },
    {
      "cell_type": "code",
      "source": [
        "df['Employee or Third Party'].value_counts()"
      ],
      "metadata": {
        "colab": {
          "base_uri": "https://localhost:8080/"
        },
        "id": "TYwM_5Mpq2rf",
        "outputId": "ed37d32d-4120-408f-ab0b-9805cc39e2b4"
      },
      "execution_count": 12,
      "outputs": [
        {
          "output_type": "execute_result",
          "data": {
            "text/plain": [
              "Third Party             189\n",
              "Employee                179\n",
              "Third Party (Remote)     57\n",
              "Name: Employee or Third Party, dtype: int64"
            ]
          },
          "metadata": {},
          "execution_count": 12
        }
      ]
    },
    {
      "cell_type": "code",
      "source": [
        "df['Critical Risk'].value_counts()"
      ],
      "metadata": {
        "colab": {
          "base_uri": "https://localhost:8080/"
        },
        "id": "nJiK0cIyrFdZ",
        "outputId": "53990867-ff05-4150-f534-0e64ecefd791"
      },
      "execution_count": 13,
      "outputs": [
        {
          "output_type": "execute_result",
          "data": {
            "text/plain": [
              "Others                                       232\n",
              "Pressed                                       24\n",
              "Manual Tools                                  20\n",
              "Chemical substances                           17\n",
              "Venomous Animals                              16\n",
              "Cut                                           14\n",
              "Projection                                    13\n",
              "Bees                                          10\n",
              "Fall                                           9\n",
              "Vehicles and Mobile Equipment                  8\n",
              "Fall prevention (same level)                   7\n",
              "remains of choco                               7\n",
              "Pressurized Systems                            7\n",
              "Fall prevention                                6\n",
              "Suspended Loads                                6\n",
              "Blocking and isolation of energies             3\n",
              "Pressurized Systems / Chemical Substances      3\n",
              "Power lock                                     3\n",
              "Liquid Metal                                   3\n",
              "Projection of fragments                        2\n",
              "Machine Protection                             2\n",
              "Electrical Shock                               2\n",
              "Individual protection equipment                1\n",
              "Projection/Manual Tools                        1\n",
              "Burn                                           1\n",
              "Poll                                           1\n",
              "Projection/Choco                               1\n",
              "Projection/Burning                             1\n",
              "Plates                                         1\n",
              "Confined space                                 1\n",
              "Traffic                                        1\n",
              "\\nNot applicable                               1\n",
              "Electrical installation                        1\n",
              "Name: Critical Risk, dtype: int64"
            ]
          },
          "metadata": {},
          "execution_count": 13
        }
      ]
    },
    {
      "cell_type": "code",
      "source": [
        "df['Description_Length']=df['Description'].str.len()"
      ],
      "metadata": {
        "id": "iAtLU44mrWiw"
      },
      "execution_count": 14,
      "outputs": []
    },
    {
      "cell_type": "code",
      "source": [
        "df['Description_Length']"
      ],
      "metadata": {
        "colab": {
          "base_uri": "https://localhost:8080/"
        },
        "id": "rHNzAc_Ar4GL",
        "outputId": "9ebd7a2b-a749-4e3f-f12c-e1452915af15"
      },
      "execution_count": 15,
      "outputs": [
        {
          "output_type": "execute_result",
          "data": {
            "text/plain": [
              "0      457\n",
              "1      307\n",
              "2      314\n",
              "3      562\n",
              "4      487\n",
              "      ... \n",
              "420    220\n",
              "421    219\n",
              "422    251\n",
              "423    187\n",
              "424    208\n",
              "Name: Description_Length, Length: 425, dtype: int64"
            ]
          },
          "metadata": {},
          "execution_count": 15
        }
      ]
    },
    {
      "cell_type": "code",
      "source": [
        "import seaborn as sns\n",
        "import matplotlib.pyplot as plt"
      ],
      "metadata": {
        "id": "NwaDts_WsIUR"
      },
      "execution_count": 16,
      "outputs": []
    },
    {
      "cell_type": "code",
      "source": [
        "df.Description_Length.plot.density(color='green')\n",
        "plt.title('Density plot for Description_Length')\n",
        "plt.show()"
      ],
      "metadata": {
        "colab": {
          "base_uri": "https://localhost:8080/",
          "height": 281
        },
        "id": "Cy0rE9N-sae1",
        "outputId": "87043cc5-b52c-4a87-8848-f1036c45c068"
      },
      "execution_count": 17,
      "outputs": [
        {
          "output_type": "display_data",
          "data": {
            "text/plain": [
              "<Figure size 432x288 with 1 Axes>"
            ],
            "image/png": "[encoded data removed]"
          },
          "metadata": {
            "needs_background": "light"
          }
        }
      ]
    },
    {
      "cell_type": "code",
      "source": [
        "sns.boxplot(x=df[\"Description_Length\"])\n",
        "plt.title('Boxplot plot for Description_Length')\n",
        "plt.show()"
      ],
      "metadata": {
        "colab": {
          "base_uri": "https://localhost:8080/",
          "height": 296
        },
        "id": "3Vf8UgTpswkZ",
        "outputId": "c9ac213d-3c8d-47e4-84d9-72a604132b51"
      },
      "execution_count": 18,
      "outputs": [
        {
          "output_type": "display_data",
          "data": {
            "text/plain": [
              "<Figure size 432x288 with 1 Axes>"
            ],
            "image/png": "[encoded data removed]"
          },
          "metadata": {
            "needs_background": "light"
          }
        }
      ]
    },
    {
      "cell_type": "markdown",
      "source": [
        "most of values between 200-400\n"
      ],
      "metadata": {
        "id": "8_RaKtLktLNa"
      }
    },
    {
      "cell_type": "code",
      "source": [
        "!pip install tensorflow --quiet"
      ],
      "metadata": {
        "id": "zvDms5Ty9tsa"
      },
      "execution_count": 19,
      "outputs": []
    },
    {
      "cell_type": "code",
      "source": [
        "import tensorflow\n",
        "from tensorflow.keras.preprocessing.text import Tokenizer"
      ],
      "metadata": {
        "id": "oJ4jibAHtFKK"
      },
      "execution_count": 20,
      "outputs": []
    },
    {
      "cell_type": "code",
      "source": [
        "tokenizer = Tokenizer()"
      ],
      "metadata": {
        "id": "H8Qbec3l-X_Y"
      },
      "execution_count": 21,
      "outputs": []
    },
    {
      "cell_type": "code",
      "source": [
        "tokenizer.fit_on_texts(list(df['Description']))"
      ],
      "metadata": {
        "id": "-wIGLiQA-b5o"
      },
      "execution_count": 22,
      "outputs": []
    },
    {
      "cell_type": "code",
      "source": [
        "len(tokenizer.word_counts)"
      ],
      "metadata": {
        "colab": {
          "base_uri": "https://localhost:8080/"
        },
        "id": "kpSdX03F-pHH",
        "outputId": "983525c4-909d-4968-d5bc-012c1d331413"
      },
      "execution_count": 25,
      "outputs": [
        {
          "output_type": "execute_result",
          "data": {
            "text/plain": [
              "3453"
            ]
          },
          "metadata": {},
          "execution_count": 25
        }
      ]
    },
    {
      "cell_type": "markdown",
      "source": [
        "only 3453 words . including stop words\n"
      ],
      "metadata": {
        "id": "EkVW78TR_ruN"
      }
    },
    {
      "cell_type": "code",
      "source": [
        "word_count_array = tokenizer.word_counts"
      ],
      "metadata": {
        "id": "OTY2pupC_qn5"
      },
      "execution_count": 27,
      "outputs": []
    },
    {
      "cell_type": "code",
      "source": [
        "type(word_count_array)"
      ],
      "metadata": {
        "colab": {
          "base_uri": "https://localhost:8080/"
        },
        "id": "ZSX2C9Kr-_ix",
        "outputId": "2a23ec86-57c4-492c-b1a8-aef999bd8c56"
      },
      "execution_count": 30,
      "outputs": [
        {
          "output_type": "execute_result",
          "data": {
            "text/plain": [
              "collections.OrderedDict"
            ]
          },
          "metadata": {},
          "execution_count": 30
        }
      ]
    },
    {
      "cell_type": "code",
      "source": [
        "word=[]\n",
        "counts=[]\n",
        "for key,val in word_count_array.items():\n",
        "  word.append(key)\n",
        "  counts.append(val)"
      ],
      "metadata": {
        "id": "9XB__RRUAMEj"
      },
      "execution_count": 34,
      "outputs": []
    },
    {
      "cell_type": "code",
      "source": [
        "df_cnt=pd.DataFrame(list(zip(word,counts)),columns=['word','count'])"
      ],
      "metadata": {
        "id": "t5dwZiNzA8Ux"
      },
      "execution_count": 36,
      "outputs": []
    },
    {
      "cell_type": "code",
      "source": [
        "df_cnt.max()"
      ],
      "metadata": {
        "colab": {
          "base_uri": "https://localhost:8080/"
        },
        "id": "QWBcecKPCcbo",
        "outputId": "ddb877f0-9bf5-4bd9-a1d4-dd5370c44b70"
      },
      "execution_count": 37,
      "outputs": [
        {
          "output_type": "execute_result",
          "data": {
            "text/plain": [
              "word     ​​the\n",
              "count     4355\n",
              "dtype: object"
            ]
          },
          "metadata": {},
          "execution_count": 37
        }
      ]
    },
    {
      "cell_type": "code",
      "source": [
        "df_cnt.min()"
      ],
      "metadata": {
        "colab": {
          "base_uri": "https://localhost:8080/"
        },
        "id": "if2T3UzVCjj5",
        "outputId": "a12928b0-20a6-40f9-f718-1b87e0705cc6"
      },
      "execution_count": 38,
      "outputs": [
        {
          "output_type": "execute_result",
          "data": {
            "text/plain": [
              "word     0\n",
              "count    1\n",
              "dtype: object"
            ]
          },
          "metadata": {},
          "execution_count": 38
        }
      ]
    },
    {
      "cell_type": "code",
      "source": [
        "df_cnt.nlargest(40,['count'])"
      ],
      "metadata": {
        "colab": {
          "base_uri": "https://localhost:8080/",
          "height": 1000
        },
        "id": "0V1QXF9GCm_O",
        "outputId": "9bef1d18-a639-4e38-89e0-8b5b6acd1d74"
      },
      "execution_count": 40,
      "outputs": [
        {
          "output_type": "execute_result",
          "data": {
            "text/plain": [
              "             word  count\n",
              "2             the   4355\n",
              "5              of   1517\n",
              "12             to    672\n",
              "32            and    612\n",
              "57             in    556\n",
              "47              a    532\n",
              "52            was    439\n",
              "35             at    350\n",
              "25             on    307\n",
              "132          that    294\n",
              "28           with    266\n",
              "82           when    261\n",
              "234           his    261\n",
              "230            he    170\n",
              "88           hand    166\n",
              "107       causing    166\n",
              "34           from    163\n",
              "105          left    160\n",
              "95             it    158\n",
              "202         right    155\n",
              "274      employee    154\n",
              "426            by    145\n",
              "326            is    128\n",
              "288      operator    122\n",
              "271         which    106\n",
              "108        injury    105\n",
              "8             for    104\n",
              "680          time    101\n",
              "45         during     96\n",
              "825      activity     94\n",
              "58           area     81\n",
              "23            one     79\n",
              "36         moment     79\n",
              "26      equipment     77\n",
              "86           work     77\n",
              "741      accident     73\n",
              "80          level     71\n",
              "20           this     70\n",
              "487            an     69\n",
              "83   collaborator     68"
            ],
            "text/html": [
              "\n",
              "  <div id=\"df-8bdd32ea-e1c7-4052-9618-d26f7de06782\">\n",
              "    <div class=\"colab-df-container\">\n",
              "      <div>\n",
              "<style scoped>\n",
              "    .dataframe tbody tr th:only-of-type {\n",
              "        vertical-align: middle;\n",
              "    }\n",
              "\n",
              "    .dataframe tbody tr th {\n",
              "        vertical-align: top;\n",
              "    }\n",
              "\n",
              "    .dataframe thead th {\n",
              "        text-align: right;\n",
              "    }\n",
              "</style>\n",
              "<table border=\"1\" class=\"dataframe\">\n",
              "  <thead>\n",
              "    <tr style=\"text-align: right;\">\n",
              "      <th></th>\n",
              "      <th>word</th>\n",
              "      <th>count</th>\n",
              "    </tr>\n",
              "  </thead>\n",
              "  <tbody>\n",
              "    <tr>\n",
              "      <th>2</th>\n",
              "      <td>the</td>\n",
              "      <td>4355</td>\n",
              "    </tr>\n",
              "    <tr>\n",
              "      <th>5</th>\n",
              "      <td>of</td>\n",
              "      <td>1517</td>\n",
              "    </tr>\n",
              "    <tr>\n",
              "      <th>12</th>\n",
              "      <td>to</td>\n",
              "      <td>672</td>\n",
              "    </tr>\n",
              "    <tr>\n",
              "      <th>32</th>\n",
              "      <td>and</td>\n",
              "      <td>612</td>\n",
              "    </tr>\n",
              "    <tr>\n",
              "      <th>57</th>\n",
              "      <td>in</td>\n",
              "      <td>556</td>\n",
              "    </tr>\n",
              "    <tr>\n",
              "      <th>47</th>\n",
              "      <td>a</td>\n",
              "      <td>532</td>\n",
              "    </tr>\n",
              "    <tr>\n",
              "      <th>52</th>\n",
              "      <td>was</td>\n",
              "      <td>439</td>\n",
              "    </tr>\n",
              "    <tr>\n",
              "      <th>35</th>\n",
              "      <td>at</td>\n",
              "      <td>350</td>\n",
              "    </tr>\n",
              "    <tr>\n",
              "      <th>25</th>\n",
              "      <td>on</td>\n",
              "      <td>307</td>\n",
              "    </tr>\n",
              "    <tr>\n",
              "      <th>132</th>\n",
              "      <td>that</td>\n",
              "      <td>294</td>\n",
              "    </tr>\n",
              "    <tr>\n",
              "      <th>28</th>\n",
              "      <td>with</td>\n",
              "      <td>266</td>\n",
              "    </tr>\n",
              "    <tr>\n",
              "      <th>82</th>\n",
              "      <td>when</td>\n",
              "      <td>261</td>\n",
              "    </tr>\n",
              "    <tr>\n",
              "      <th>234</th>\n",
              "      <td>his</td>\n",
              "      <td>261</td>\n",
              "    </tr>\n",
              "    <tr>\n",
              "      <th>230</th>\n",
              "      <td>he</td>\n",
              "      <td>170</td>\n",
              "    </tr>\n",
              "    <tr>\n",
              "      <th>88</th>\n",
              "      <td>hand</td>\n",
              "      <td>166</td>\n",
              "    </tr>\n",
              "    <tr>\n",
              "      <th>107</th>\n",
              "      <td>causing</td>\n",
              "      <td>166</td>\n",
              "    </tr>\n",
              "    <tr>\n",
              "      <th>34</th>\n",
              "      <td>from</td>\n",
              "      <td>163</td>\n",
              "    </tr>\n",
              "    <tr>\n",
              "      <th>105</th>\n",
              "      <td>left</td>\n",
              "      <td>160</td>\n",
              "    </tr>\n",
              "    <tr>\n",
              "      <th>95</th>\n",
              "      <td>it</td>\n",
              "      <td>158</td>\n",
              "    </tr>\n",
              "    <tr>\n",
              "      <th>202</th>\n",
              "      <td>right</td>\n",
              "      <td>155</td>\n",
              "    </tr>\n",
              "    <tr>\n",
              "      <th>274</th>\n",
              "      <td>employee</td>\n",
              "      <td>154</td>\n",
              "    </tr>\n",
              "    <tr>\n",
              "      <th>426</th>\n",
              "      <td>by</td>\n",
              "      <td>145</td>\n",
              "    </tr>\n",
              "    <tr>\n",
              "      <th>326</th>\n",
              "      <td>is</td>\n",
              "      <td>128</td>\n",
              "    </tr>\n",
              "    <tr>\n",
              "      <th>288</th>\n",
              "      <td>operator</td>\n",
              "      <td>122</td>\n",
              "    </tr>\n",
              "    <tr>\n",
              "      <th>271</th>\n",
              "      <td>which</td>\n",
              "      <td>106</td>\n",
              "    </tr>\n",
              "    <tr>\n",
              "      <th>108</th>\n",
              "      <td>injury</td>\n",
              "      <td>105</td>\n",
              "    </tr>\n",
              "    <tr>\n",
              "      <th>8</th>\n",
              "      <td>for</td>\n",
              "      <td>104</td>\n",
              "    </tr>\n",
              "    <tr>\n",
              "      <th>680</th>\n",
              "      <td>time</td>\n",
              "      <td>101</td>\n",
              "    </tr>\n",
              "    <tr>\n",
              "      <th>45</th>\n",
              "      <td>during</td>\n",
              "      <td>96</td>\n",
              "    </tr>\n",
              "    <tr>\n",
              "      <th>825</th>\n",
              "      <td>activity</td>\n",
              "      <td>94</td>\n",
              "    </tr>\n",
              "    <tr>\n",
              "      <th>58</th>\n",
              "      <td>area</td>\n",
              "      <td>81</td>\n",
              "    </tr>\n",
              "    <tr>\n",
              "      <th>23</th>\n",
              "      <td>one</td>\n",
              "      <td>79</td>\n",
              "    </tr>\n",
              "    <tr>\n",
              "      <th>36</th>\n",
              "      <td>moment</td>\n",
              "      <td>79</td>\n",
              "    </tr>\n",
              "    <tr>\n",
              "      <th>26</th>\n",
              "      <td>equipment</td>\n",
              "      <td>77</td>\n",
              "    </tr>\n",
              "    <tr>\n",
              "      <th>86</th>\n",
              "      <td>work</td>\n",
              "      <td>77</td>\n",
              "    </tr>\n",
              "    <tr>\n",
              "      <th>741</th>\n",
              "      <td>accident</td>\n",
              "      <td>73</td>\n",
              "    </tr>\n",
              "    <tr>\n",
              "      <th>80</th>\n",
              "      <td>level</td>\n",
              "      <td>71</td>\n",
              "    </tr>\n",
              "    <tr>\n",
              "      <th>20</th>\n",
              "      <td>this</td>\n",
              "      <td>70</td>\n",
              "    </tr>\n",
              "    <tr>\n",
              "      <th>487</th>\n",
              "      <td>an</td>\n",
              "      <td>69</td>\n",
              "    </tr>\n",
              "    <tr>\n",
              "      <th>83</th>\n",
              "      <td>collaborator</td>\n",
              "      <td>68</td>\n",
              "    </tr>\n",
              "  </tbody>\n",
              "</table>\n",
              "</div>\n",
              "      <button class=\"colab-df-convert\" onclick=\"convertToInteractive('df-8bdd32ea-e1c7-4052-9618-d26f7de06782')\"\n",
              "              title=\"Convert this dataframe to an interactive table.\"\n",
              "              style=\"display:none;\">\n",
              "        \n",
              "  <svg xmlns=\"http://www.w3.org/2000/svg\" height=\"24px\"viewBox=\"0 0 24 24\"\n",
              "       width=\"24px\">\n",
              "    <path d=\"M0 0h24v24H0V0z\" fill=\"none\"/>\n",
              "    <path d=\"M18.56 5.44l.94 2.06.94-2.06 2.06-.94-2.06-.94-.94-2.06-.94 2.06-2.06.94zm-11 1L8.5 8.5l.94-2.06 2.06-.94-2.06-.94L8.5 2.5l-.94 2.06-2.06.94zm10 10l.94 2.06.94-2.06 2.06-.94-2.06-.94-.94-2.06-.94 2.06-2.06.94z\"/><path d=\"M17.41 7.96l-1.37-1.37c-.4-.4-.92-.59-1.43-.59-.52 0-1.04.2-1.43.59L10.3 9.45l-7.72 7.72c-.78.78-.78 2.05 0 2.83L4 21.41c.39.39.9.59 1.41.59.51 0 1.02-.2 1.41-.59l7.78-7.78 2.81-2.81c.8-.78.8-2.07 0-2.86zM5.41 20L4 18.59l7.72-7.72 1.47 1.35L5.41 20z\"/>\n",
              "  </svg>\n",
              "      </button>\n",
              "      \n",
              "  <style>\n",
              "    .colab-df-container {\n",
              "      display:flex;\n",
              "      flex-wrap:wrap;\n",
              "      gap: 12px;\n",
              "    }\n",
              "\n",
              "    .colab-df-convert {\n",
              "      background-color: #E8F0FE;\n",
              "      border: none;\n",
              "      border-radius: 50%;\n",
              "      cursor: pointer;\n",
              "      display: none;\n",
              "      fill: #1967D2;\n",
              "      height: 32px;\n",
              "      padding: 0 0 0 0;\n",
              "      width: 32px;\n",
              "    }\n",
              "\n",
              "    .colab-df-convert:hover {\n",
              "      background-color: #E2EBFA;\n",
              "      box-shadow: 0px 1px 2px rgba(60, 64, 67, 0.3), 0px 1px 3px 1px rgba(60, 64, 67, 0.15);\n",
              "      fill: #174EA6;\n",
              "    }\n",
              "\n",
              "    [theme=dark] .colab-df-convert {\n",
              "      background-color: #3B4455;\n",
              "      fill: #D2E3FC;\n",
              "    }\n",
              "\n",
              "    [theme=dark] .colab-df-convert:hover {\n",
              "      background-color: #434B5C;\n",
              "      box-shadow: 0px 1px 3px 1px rgba(0, 0, 0, 0.15);\n",
              "      filter: drop-shadow(0px 1px 2px rgba(0, 0, 0, 0.3));\n",
              "      fill: #FFFFFF;\n",
              "    }\n",
              "  </style>\n",
              "\n",
              "      <script>\n",
              "        const buttonEl =\n",
              "          document.querySelector('#df-8bdd32ea-e1c7-4052-9618-d26f7de06782 button.colab-df-convert');\n",
              "        buttonEl.style.display =\n",
              "          google.colab.kernel.accessAllowed ? 'block' : 'none';\n",
              "\n",
              "        async function convertToInteractive(key) {\n",
              "          const element = document.querySelector('#df-8bdd32ea-e1c7-4052-9618-d26f7de06782');\n",
              "          const dataTable =\n",
              "            await google.colab.kernel.invokeFunction('convertToInteractive',\n",
              "                                                     [key], {});\n",
              "          if (!dataTable) return;\n",
              "\n",
              "          const docLinkHtml = 'Like what you see? Visit the ' +\n",
              "            '<a target=\"_blank\" href=https://colab.research.google.com/notebooks/data_table.ipynb>data table notebook</a>'\n",
              "            + ' to learn more about interactive tables.';\n",
              "          element.innerHTML = '';\n",
              "          dataTable['output_type'] = 'display_data';\n",
              "          await google.colab.output.renderOutput(dataTable, element);\n",
              "          const docLink = document.createElement('div');\n",
              "          docLink.innerHTML = docLinkHtml;\n",
              "          element.appendChild(docLink);\n",
              "        }\n",
              "      </script>\n",
              "    </div>\n",
              "  </div>\n",
              "  "
            ]
          },
          "metadata": {},
          "execution_count": 40
        }
      ]
    },
    {
      "cell_type": "markdown",
      "source": [
        "in top 40 most of them are stop words"
      ],
      "metadata": {
        "id": "1lexhzsfDRvS"
      }
    },
    {
      "cell_type": "code",
      "source": [],
      "metadata": {
        "id": "K5j1dx1GC-tf"
      },
      "execution_count": null,
      "outputs": []
    },
    {
      "cell_type": "markdown",
      "source": [
        "need to decide on num of words also \n",
        "\n",
        "update num_words - parameter to take cut off words ."
      ],
      "metadata": {
        "id": "t-0Xwnl2DmAX"
      }
    },
    {
      "cell_type": "code",
      "source": [
        "df_cp=df_cnt.nsmallest(500,['count'])\n",
        "list(df_cp['word'])"
      ],
      "metadata": {
        "colab": {
          "base_uri": "https://localhost:8080/"
        },
        "id": "Om9dbsY4Dpnt",
        "outputId": "723b6c8b-13b0-4b03-ee68-15d4a15a78e3"
      },
      "execution_count": 44,
      "outputs": [
        {
          "output_type": "execute_result",
          "data": {
            "text/plain": [
              "['centralizer',\n",
              " 'facilitate',\n",
              " 'accelerate',\n",
              " 'tightens',\n",
              " 'activation',\n",
              " 'piping',\n",
              " 'uncoupled',\n",
              " 'sulfide',\n",
              " 'designed',\n",
              " 'ambulatory',\n",
              " '48',\n",
              " 'grams',\n",
              " 'liter',\n",
              " '170',\n",
              " 'flat',\n",
              " 'beak',\n",
              " '695',\n",
              " 'ob7',\n",
              " 'soquet',\n",
              " 'bhb',\n",
              " 'hexagonal',\n",
              " 'cristóbal',\n",
              " 'exert',\n",
              " 'dado',\n",
              " 'rotate',\n",
              " 'anti',\n",
              " 'clockwise',\n",
              " 'anthony',\n",
              " 'group',\n",
              " 'leader',\n",
              " 'eduardo',\n",
              " 'eric',\n",
              " 'fernández',\n",
              " '3015',\n",
              " 'zaf',\n",
              " 'marcy',\n",
              " '33',\n",
              " 'heating',\n",
              " 'unhooking',\n",
              " 'total',\n",
              " 'depressurisation',\n",
              " 'street',\n",
              " 'ended',\n",
              " 'hm',\n",
              " 'miguel',\n",
              " 'eka',\n",
              " 'illness',\n",
              " 'manipulate',\n",
              " 'bioxide',\n",
              " 'leads',\n",
              " '\\u200b\\u200bmanual',\n",
              " 'splashed',\n",
              " 'fissure',\n",
              " '069',\n",
              " 'subsequently',\n",
              " 'segment',\n",
              " 'polyurethane',\n",
              " '60x4x5cm',\n",
              " 'rotated',\n",
              " 'compress',\n",
              " 'hip',\n",
              " 'evacuate',\n",
              " 'cooking',\n",
              " 'jaba',\n",
              " 'tilts',\n",
              " 'ml',\n",
              " \"cook's\",\n",
              " 'cook',\n",
              " 'applies',\n",
              " 'cold',\n",
              " 'cyclone',\n",
              " 'duct',\n",
              " 'energize',\n",
              " '544',\n",
              " '440v',\n",
              " '400a',\n",
              " 'thermomagnetic',\n",
              " 'trailer',\n",
              " '08fi0502',\n",
              " 'shutter',\n",
              " 'aramid',\n",
              " 'despite',\n",
              " 'spatters',\n",
              " 'facila',\n",
              " 'hood',\n",
              " 'rp',\n",
              " '050',\n",
              " '1620',\n",
              " 'overheating',\n",
              " 'bars',\n",
              " 'manages',\n",
              " 'chief',\n",
              " 'g2133',\n",
              " 'changed',\n",
              " 'detachment',\n",
              " 'ambulance',\n",
              " 'you',\n",
              " 'manuel',\n",
              " 'disconnection',\n",
              " 'manco',\n",
              " 'streets',\n",
              " 'cajamarquilla',\n",
              " 'subsequent',\n",
              " 'silver',\n",
              " 'afterwards',\n",
              " 'latter',\n",
              " '71r',\n",
              " 'tm',\n",
              " 'stroke',\n",
              " 'jibs',\n",
              " 'jib',\n",
              " 'enforce',\n",
              " 'piston',\n",
              " 'aligning',\n",
              " 'applied',\n",
              " 'tirford',\n",
              " 'overcoming',\n",
              " 'resistance',\n",
              " 'lineman',\n",
              " 'reshaping',\n",
              " 'beating',\n",
              " 'a30',\n",
              " '29',\n",
              " 'favor',\n",
              " '2142',\n",
              " 'deslaminadora',\n",
              " 'stacking',\n",
              " 'requires',\n",
              " 'mollares',\n",
              " 'helps',\n",
              " 'brushed',\n",
              " \"mollares's\",\n",
              " 'willing',\n",
              " 'displace',\n",
              " 'adhered',\n",
              " 'grazing',\n",
              " 'knuckles',\n",
              " 'enabled',\n",
              " 'winche',\n",
              " 'walk',\n",
              " 'taking',\n",
              " 'importance',\n",
              " 'derived',\n",
              " '1055',\n",
              " 'if',\n",
              " 'remains',\n",
              " '5x4x3cm',\n",
              " '180',\n",
              " '2940',\n",
              " '896',\n",
              " 'half',\n",
              " 'griff',\n",
              " 'unscrew',\n",
              " 'semi',\n",
              " 'debris',\n",
              " 'extra',\n",
              " 'muscle',\n",
              " '1095',\n",
              " 'trainee',\n",
              " 'planamieto',\n",
              " '184',\n",
              " 'notebook',\n",
              " 'inspecting',\n",
              " 'stepping',\n",
              " 'difficult',\n",
              " 'notes',\n",
              " 'yaranga',\n",
              " '996',\n",
              " 'juan',\n",
              " 'reacting',\n",
              " 'managing',\n",
              " 'launched',\n",
              " '255',\n",
              " 'finishing',\n",
              " 'albertico',\n",
              " 'jhony',\n",
              " 'cockpit',\n",
              " 'launcher',\n",
              " 'hastial',\n",
              " 'labor',\n",
              " 'tapped',\n",
              " 'replacing',\n",
              " 'expansion',\n",
              " 'storm',\n",
              " 'chemo',\n",
              " 'conductive',\n",
              " 'pulleys',\n",
              " 'rig',\n",
              " 'label',\n",
              " 'labeling',\n",
              " 'sip',\n",
              " 'enough',\n",
              " 'esengrasante',\n",
              " 'machinery',\n",
              " 'toxicity',\n",
              " 'flyght',\n",
              " 'lubrication',\n",
              " 'sulfur',\n",
              " 'dioxide',\n",
              " 'so2',\n",
              " 'seal',\n",
              " 'overpressure',\n",
              " 'cormei',\n",
              " 'companies',\n",
              " 'cosapi',\n",
              " 'meshes',\n",
              " 'gables',\n",
              " '40mt',\n",
              " 'portable',\n",
              " 'hanging',\n",
              " '80mt',\n",
              " 'demag',\n",
              " 'iv',\n",
              " 'pillar',\n",
              " 'specified',\n",
              " 'figure',\n",
              " 'neutral',\n",
              " 'airlift',\n",
              " 'baton',\n",
              " 'spatula',\n",
              " 'spear',\n",
              " 'op4',\n",
              " 'bruises',\n",
              " '831',\n",
              " '1910',\n",
              " 'm4c',\n",
              " 'ith',\n",
              " 'withdrawing',\n",
              " 'paid',\n",
              " 'gallons',\n",
              " 'rails',\n",
              " 'derailed',\n",
              " 'trapped',\n",
              " 'bruised',\n",
              " 'scraps',\n",
              " 'explosion',\n",
              " 'fectuaban',\n",
              " 'stabilizer',\n",
              " 'hiab',\n",
              " '69cm',\n",
              " 'treading',\n",
              " 'disposal',\n",
              " 'rolled',\n",
              " 'contained',\n",
              " '176',\n",
              " '620',\n",
              " '640',\n",
              " \"pump's\",\n",
              " 'x32',\n",
              " 'x3',\n",
              " 'cats',\n",
              " 'accommodated',\n",
              " 'tractor',\n",
              " 'd6t',\n",
              " 'n1',\n",
              " 'purification',\n",
              " 'grab',\n",
              " 'directs',\n",
              " 'gaze',\n",
              " '2x3x2cm',\n",
              " '36gr',\n",
              " 'openings',\n",
              " 'sacrifice',\n",
              " 'tightening',\n",
              " 'neglected',\n",
              " 'cruz',\n",
              " 'shipment',\n",
              " 'cross',\n",
              " 'rigger',\n",
              " 'shipping',\n",
              " 'hemiface',\n",
              " 'became',\n",
              " 'cadmium',\n",
              " 'factory',\n",
              " '1440',\n",
              " 'sulphate',\n",
              " 'refurbishment',\n",
              " 'laden',\n",
              " 'curve',\n",
              " 'laquia',\n",
              " 'unevenness',\n",
              " 'overturning',\n",
              " 'squares',\n",
              " 'alcohotest',\n",
              " '745',\n",
              " 'anchorage',\n",
              " 'anchoring',\n",
              " 'diamantina',\n",
              " 'xrd',\n",
              " 'bob',\n",
              " 'simultaneously',\n",
              " 'lack',\n",
              " 'securing',\n",
              " 'drum',\n",
              " 'displaces',\n",
              " 'roy',\n",
              " 'canario',\n",
              " 'd1304',\n",
              " 'bundle',\n",
              " 'blown',\n",
              " 'detaching',\n",
              " 'shipper',\n",
              " 'scheduled',\n",
              " 'almost',\n",
              " 'supervise',\n",
              " 'harness',\n",
              " 'accessory',\n",
              " 'flanges',\n",
              " 'tailings',\n",
              " '700kg',\n",
              " 'fully',\n",
              " 'brakes',\n",
              " 'closes',\n",
              " 'accessing',\n",
              " 'santa',\n",
              " 'novo',\n",
              " 'chop',\n",
              " 'manetometer',\n",
              " 'steep',\n",
              " 'gravel',\n",
              " 'certain',\n",
              " 'become',\n",
              " '600',\n",
              " 'jack',\n",
              " 'entire',\n",
              " 'effective',\n",
              " 'inefficacy',\n",
              " 'done',\n",
              " 'chestnut',\n",
              " 'monkey',\n",
              " 'faucet',\n",
              " 'firmly',\n",
              " 'composition',\n",
              " 'stems',\n",
              " 'sutured',\n",
              " 'stitches',\n",
              " 'rhainer',\n",
              " 'object',\n",
              " 'thus',\n",
              " 'pierce',\n",
              " 'pasture',\n",
              " 'recently',\n",
              " 'residence',\n",
              " '970',\n",
              " 'x40cm',\n",
              " 'scaler',\n",
              " '142',\n",
              " 'restricts',\n",
              " 'bo',\n",
              " 'photos',\n",
              " 'disassembly',\n",
              " 'bodies',\n",
              " 'pulpomatic',\n",
              " 'd2251',\n",
              " 'sump',\n",
              " 'rivets',\n",
              " 'horizontals',\n",
              " 'cluster',\n",
              " 'sleepers',\n",
              " 'protruded',\n",
              " 'submerged',\n",
              " '1170',\n",
              " 'chair',\n",
              " 'stumbles',\n",
              " 'grille',\n",
              " '17m',\n",
              " 'accidently',\n",
              " 'maximum',\n",
              " 'lay',\n",
              " 'pig',\n",
              " 'stope',\n",
              " 'obstruct',\n",
              " 'direct',\n",
              " 'reinstallation',\n",
              " 'sectioned',\n",
              " 'hydrojet',\n",
              " 'obstruction',\n",
              " 'residue',\n",
              " 'actuating',\n",
              " 'pedal',\n",
              " 'bypass',\n",
              " 'raul',\n",
              " 'bolting',\n",
              " 'rolando',\n",
              " 'pink',\n",
              " 'overhanging',\n",
              " 'rises',\n",
              " 'luna',\n",
              " 'cruiser',\n",
              " 'pentacord',\n",
              " 'fanel',\n",
              " 'toecap',\n",
              " 'attendants',\n",
              " 'compartment',\n",
              " 'classification',\n",
              " 'x1',\n",
              " 'x0',\n",
              " 'litter',\n",
              " 'zinco',\n",
              " 'rotary',\n",
              " 'l1',\n",
              " 'electro',\n",
              " '95',\n",
              " 'f',\n",
              " '9970',\n",
              " 'flammable',\n",
              " 'oxides',\n",
              " 'acl',\n",
              " '804',\n",
              " 'raising',\n",
              " 'indexed',\n",
              " 'turntable',\n",
              " '1604',\n",
              " 'woman',\n",
              " 'discharging',\n",
              " 'hydroxide',\n",
              " 'disconnecting',\n",
              " 'demineralization',\n",
              " 'sensor',\n",
              " 'jesus',\n",
              " 'shooting',\n",
              " '001',\n",
              " 'ob1',\n",
              " 'applying',\n",
              " 'm3',\n",
              " 'realizes',\n",
              " 'directing',\n",
              " 'passage',\n",
              " '53',\n",
              " '¼',\n",
              " 'presenting',\n",
              " 'ponchos',\n",
              " 'tips',\n",
              " 'prongs',\n",
              " 'curling',\n",
              " 'embed',\n",
              " 'poles',\n",
              " 'ddh',\n",
              " 'explomin',\n",
              " 'socorro',\n",
              " '334',\n",
              " 'nq',\n",
              " 'rotates',\n",
              " 'wilder',\n",
              " 'gilton',\n",
              " 'introduce',\n",
              " 'introduces',\n",
              " 'pointed',\n",
              " 'kevin',\n",
              " 'subjection',\n",
              " 'achieving',\n",
              " 'francisco',\n",
              " 'lectro',\n",
              " 'eyebrow',\n",
              " 'spun',\n",
              " 'die',\n",
              " 'pead',\n",
              " 'geomembrane',\n",
              " 'seam',\n",
              " 'extruder',\n",
              " 'stylet',\n",
              " '3620',\n",
              " 'ex',\n",
              " '450',\n",
              " 'quinoa',\n",
              " 'treads',\n",
              " 'laterally',\n",
              " 'sunday',\n",
              " 'saying',\n",
              " 'ago',\n",
              " 'heat',\n",
              " 'exchangers',\n",
              " 'defined',\n",
              " 'risk',\n",
              " 'sulfates',\n",
              " 'ajg',\n",
              " '751',\n",
              " 'missing',\n",
              " '3900',\n",
              " 'gearbox',\n",
              " 'backhoe',\n",
              " 'moon',\n",
              " 'facial',\n",
              " 'visited',\n",
              " 'facilities',\n",
              " 'waiting',\n",
              " '4070',\n",
              " 'el',\n",
              " 'porvenir',\n",
              " '4240',\n",
              " '120',\n",
              " 'accretion',\n",
              " 'scalp',\n",
              " \"helmet's\",\n",
              " 'sheepskin',\n",
              " '205b',\n",
              " 'silicate',\n",
              " 'juveni',\n",
              " 'dizziness',\n",
              " 'faintness']"
            ]
          },
          "metadata": {},
          "execution_count": 44
        }
      ]
    },
    {
      "cell_type": "code",
      "source": [
        "df_cnt.word[df_cnt.word.str.contains(\"[^a-zA-Z0-9]\")]"
      ],
      "metadata": {
        "colab": {
          "base_uri": "https://localhost:8080/"
        },
        "id": "ndED3cMPGRJH",
        "outputId": "07c93a5e-c7d3-44c4-bfcf-7fab87d4b225"
      },
      "execution_count": 45,
      "outputs": [
        {
          "output_type": "execute_result",
          "data": {
            "text/plain": [
              "104               ​​the\n",
              "138           cristóbal\n",
              "171           fernández\n",
              "249                josé\n",
              "298            ​​manual\n",
              "334            worker's\n",
              "359              cook's\n",
              "373          ustulación\n",
              "561          operator's\n",
              "564         assistant's\n",
              "571                   °\n",
              "591             truck's\n",
              "622          mollares's\n",
              "630      collaborator's\n",
              "703          employee's\n",
              "981              team's\n",
              "1064             pump's\n",
              "1435           person's\n",
              "1562                  ¼\n",
              "1724           helmet's\n",
              "1816             lázaro\n",
              "1927          jehovânio\n",
              "1980           aripuanã\n",
              "1993              mário\n",
              "2044             hand's\n",
              "2094              ppe's\n",
              "2106           welder's\n",
              "2122       casionándole\n",
              "2142              epp's\n",
              "2198          machine's\n",
              "2206           victim's\n",
              "2221            eusébio\n",
              "2255              juína\n",
              "2458         raspándose\n",
              "2510        ​​equipment\n",
              "2520         mechanic's\n",
              "2609              césar\n",
              "2612              román\n",
              "2622        martinópole\n",
              "2624              fábio\n",
              "2646      propiciándose\n",
              "2712        carpenter's\n",
              "2815         employees'\n",
              "2922              fan's\n",
              "2941            antônio\n",
              "2990           gilvânio\n",
              "3018          ​​lloclla\n",
              "3100              xixás\n",
              "3139     magnetometer's\n",
              "3251             unit's\n",
              "3266             efraín\n",
              "3287     ​​electrolysis\n",
              "3294             márcio\n",
              "3295             sérgio\n",
              "3313          ​​machine\n",
              "3363            ​​santa\n",
              "3402         victaúlica\n",
              "3413    ​​approximately\n",
              "3419       ​​bonsucesso\n",
              "3424                são\n",
              "Name: word, dtype: object"
            ]
          },
          "metadata": {},
          "execution_count": 45
        }
      ]
    },
    {
      "cell_type": "code",
      "source": [],
      "metadata": {
        "id": "gvmaM9XyH8G_"
      },
      "execution_count": null,
      "outputs": []
    }
  ]
}