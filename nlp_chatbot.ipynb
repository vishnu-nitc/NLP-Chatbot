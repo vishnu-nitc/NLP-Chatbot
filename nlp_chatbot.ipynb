{
  "nbformat": 4,
  "nbformat_minor": 0,
  "metadata": {
    "colab": {
      "provenance": [],
      "authorship_tag": "ABX9TyMr7wYnRFHwkOG7Kpw6LtWt",
      "include_colab_link": true
    },
    "kernelspec": {
      "name": "python3",
      "display_name": "Python 3"
    },
    "language_info": {
      "name": "python"
    }
  },
  "cells": [
    {
      "cell_type": "markdown",
      "metadata": {
        "id": "view-in-github",
        "colab_type": "text"
      },
      "source": [
        "<a href=\"https://colab.research.google.com/github/vishnu-nitc/NLP-Chatbot/blob/main/nlp_chatbot.ipynb\" target=\"_parent\"><img src=\"https://colab.research.google.com/assets/colab-badge.svg\" alt=\"Open In Colab\"/></a>"
      ]
    },
    {
      "cell_type": "code",
      "execution_count": 1,
      "metadata": {
        "colab": {
          "base_uri": "https://localhost:8080/"
        },
        "id": "F1xBjr2qgSGD",
        "outputId": "61cd5968-73ba-40e7-de0e-6ca0bdbf28a8"
      },
      "outputs": [
        {
          "output_type": "stream",
          "name": "stdout",
          "text": [
            "--2022-12-16 01:34:49--  https://raw.githubusercontent.com/vishnu-nitc/NLP-Chatbot/main/archive/IHMStefanini_industrial_safety_and_health_database_with_accidents_description.csv\n",
            "Resolving raw.githubusercontent.com (raw.githubusercontent.com)... 185.199.109.133, 185.199.111.133, 185.199.110.133, ...\n",
            "Connecting to raw.githubusercontent.com (raw.githubusercontent.com)|185.199.109.133|:443... connected.\n",
            "HTTP request sent, awaiting response... 200 OK\n",
            "Length: 193631 (189K) [text/plain]\n",
            "Saving to: ‘IHMStefanini_industrial_safety_and_health_database_with_accidents_description.csv’\n",
            "\n",
            "\r          IHMStefan   0%[                    ]       0  --.-KB/s               \rIHMStefanini_indust 100%[===================>] 189.09K  --.-KB/s    in 0.005s  \n",
            "\n",
            "2022-12-16 01:34:49 (35.3 MB/s) - ‘IHMStefanini_industrial_safety_and_health_database_with_accidents_description.csv’ saved [193631/193631]\n",
            "\n"
          ]
        }
      ],
      "source": [
        "!wget https://raw.githubusercontent.com/vishnu-nitc/NLP-Chatbot/main/archive/IHMStefanini_industrial_safety_and_health_database_with_accidents_description.csv"
      ]
    },
    {
      "cell_type": "code",
      "source": [
        "import pandas as pd "
      ],
      "metadata": {
        "id": "7KlY5hgLhqru"
      },
      "execution_count": 2,
      "outputs": []
    },
    {
      "cell_type": "code",
      "source": [
        "df = pd.read_csv('/content/IHMStefanini_industrial_safety_and_health_database_with_accidents_description.csv')"
      ],
      "metadata": {
        "id": "GaE3G_VChvik"
      },
      "execution_count": 3,
      "outputs": []
    },
    {
      "cell_type": "code",
      "source": [
        "df.info()"
      ],
      "metadata": {
        "colab": {
          "base_uri": "https://localhost:8080/"
        },
        "id": "w7qus7RJh6ta",
        "outputId": "7cac2631-3364-412a-961e-3017e5653a61"
      },
      "execution_count": 4,
      "outputs": [
        {
          "output_type": "stream",
          "name": "stdout",
          "text": [
            "<class 'pandas.core.frame.DataFrame'>\n",
            "RangeIndex: 425 entries, 0 to 424\n",
            "Data columns (total 11 columns):\n",
            " #   Column                    Non-Null Count  Dtype \n",
            "---  ------                    --------------  ----- \n",
            " 0   Unnamed: 0                425 non-null    int64 \n",
            " 1   Data                      425 non-null    object\n",
            " 2   Countries                 425 non-null    object\n",
            " 3   Local                     425 non-null    object\n",
            " 4   Industry Sector           425 non-null    object\n",
            " 5   Accident Level            425 non-null    object\n",
            " 6   Potential Accident Level  425 non-null    object\n",
            " 7   Genre                     425 non-null    object\n",
            " 8   Employee or Third Party   425 non-null    object\n",
            " 9   Critical Risk             425 non-null    object\n",
            " 10  Description               425 non-null    object\n",
            "dtypes: int64(1), object(10)\n",
            "memory usage: 36.6+ KB\n"
          ]
        }
      ]
    },
    {
      "cell_type": "markdown",
      "source": [
        "- 425 Description"
      ],
      "metadata": {
        "id": "Ilxfb0CKk01f"
      }
    },
    {
      "cell_type": "code",
      "source": [
        "df.Data.value_counts()"
      ],
      "metadata": {
        "id": "9uFhdxpth8kj",
        "colab": {
          "base_uri": "https://localhost:8080/"
        },
        "outputId": "819b302f-725d-4964-8a5a-38c4b12b796b"
      },
      "execution_count": 5,
      "outputs": [
        {
          "output_type": "execute_result",
          "data": {
            "text/plain": [
              "2017-02-08 00:00:00    6\n",
              "2016-06-16 00:00:00    5\n",
              "2016-10-03 00:00:00    4\n",
              "2017-06-11 00:00:00    4\n",
              "2016-06-08 00:00:00    4\n",
              "                      ..\n",
              "2016-07-18 00:00:00    1\n",
              "2016-07-20 00:00:00    1\n",
              "2016-07-21 00:00:00    1\n",
              "2016-07-23 00:00:00    1\n",
              "2017-07-09 00:00:00    1\n",
              "Name: Data, Length: 287, dtype: int64"
            ]
          },
          "metadata": {},
          "execution_count": 5
        }
      ]
    },
    {
      "cell_type": "markdown",
      "source": [
        "Data is a Date column"
      ],
      "metadata": {
        "id": "65WrAb0MlKCb"
      }
    },
    {
      "cell_type": "code",
      "source": [
        "df.Countries.value_counts()"
      ],
      "metadata": {
        "colab": {
          "base_uri": "https://localhost:8080/"
        },
        "id": "DQL9WynnlGpK",
        "outputId": "935fec28-7c66-41db-8ac2-9120f36b0ffb"
      },
      "execution_count": 6,
      "outputs": [
        {
          "output_type": "execute_result",
          "data": {
            "text/plain": [
              "Country_01    251\n",
              "Country_02    130\n",
              "Country_03     44\n",
              "Name: Countries, dtype: int64"
            ]
          },
          "metadata": {},
          "execution_count": 6
        }
      ]
    },
    {
      "cell_type": "markdown",
      "source": [
        "Three distinct values "
      ],
      "metadata": {
        "id": "B46MxjpFlWWm"
      }
    },
    {
      "cell_type": "code",
      "source": [
        "df.Local.value_counts().sort_index()\n"
      ],
      "metadata": {
        "colab": {
          "base_uri": "https://localhost:8080/"
        },
        "id": "5uoW4z8OlUfh",
        "outputId": "a9627f8b-a832-41fc-f169-b59208aed04b"
      },
      "execution_count": 9,
      "outputs": [
        {
          "output_type": "execute_result",
          "data": {
            "text/plain": [
              "Local_01    57\n",
              "Local_02    24\n",
              "Local_03    90\n",
              "Local_04    56\n",
              "Local_05    59\n",
              "Local_06    46\n",
              "Local_07    14\n",
              "Local_08    27\n",
              "Local_09     2\n",
              "Local_10    44\n",
              "Local_11     2\n",
              "Local_12     4\n",
              "Name: Local, dtype: int64"
            ]
          },
          "metadata": {},
          "execution_count": 9
        }
      ]
    },
    {
      "cell_type": "markdown",
      "source": [
        "- 12 different Local values"
      ],
      "metadata": {
        "id": "GyUca3O8mXX9"
      }
    },
    {
      "cell_type": "code",
      "source": [
        "df['Industry Sector'].value_counts()"
      ],
      "metadata": {
        "colab": {
          "base_uri": "https://localhost:8080/"
        },
        "id": "SxEPcRVYmUtT",
        "outputId": "00292be5-5721-4e50-e9ce-870a8d9bf6c2"
      },
      "execution_count": 10,
      "outputs": [
        {
          "output_type": "execute_result",
          "data": {
            "text/plain": [
              "Mining    241\n",
              "Metals    134\n",
              "Others     50\n",
              "Name: Industry Sector, dtype: int64"
            ]
          },
          "metadata": {},
          "execution_count": 10
        }
      ]
    },
    {
      "cell_type": "code",
      "source": [
        "df['Accident Level'].value_counts()"
      ],
      "metadata": {
        "colab": {
          "base_uri": "https://localhost:8080/"
        },
        "id": "9mKldzXdld6o",
        "outputId": "eb481880-a535-453b-b1b8-d1261a10e450"
      },
      "execution_count": 12,
      "outputs": [
        {
          "output_type": "execute_result",
          "data": {
            "text/plain": [
              "I      316\n",
              "II      40\n",
              "III     31\n",
              "IV      30\n",
              "V        8\n",
              "Name: Accident Level, dtype: int64"
            ]
          },
          "metadata": {},
          "execution_count": 12
        }
      ]
    },
    {
      "cell_type": "markdown",
      "source": [
        "- 5 levels . skewed to level I"
      ],
      "metadata": {
        "id": "ei6Va1QWqOG9"
      }
    },
    {
      "cell_type": "code",
      "source": [
        "df['Potential Accident Level'].value_counts()"
      ],
      "metadata": {
        "colab": {
          "base_uri": "https://localhost:8080/"
        },
        "id": "_R6J2Vq8qHHI",
        "outputId": "6c08a8ab-89e8-4808-c569-0248f1f17d93"
      },
      "execution_count": 13,
      "outputs": [
        {
          "output_type": "execute_result",
          "data": {
            "text/plain": [
              "IV     143\n",
              "III    106\n",
              "II      95\n",
              "I       49\n",
              "V       31\n",
              "VI       1\n",
              "Name: Potential Accident Level, dtype: int64"
            ]
          },
          "metadata": {},
          "execution_count": 13
        }
      ]
    },
    {
      "cell_type": "markdown",
      "source": [
        "- here 6 are there . only one value for level VI . most of them are level IV or III"
      ],
      "metadata": {
        "id": "cEhs9bR6qjKS"
      }
    },
    {
      "cell_type": "code",
      "source": [
        "df.Genre.value_counts()"
      ],
      "metadata": {
        "colab": {
          "base_uri": "https://localhost:8080/"
        },
        "id": "G6etMMgFqfZR",
        "outputId": "bf68cb96-2b65-4d90-d236-0749434316ac"
      },
      "execution_count": 14,
      "outputs": [
        {
          "output_type": "execute_result",
          "data": {
            "text/plain": [
              "Male      403\n",
              "Female     22\n",
              "Name: Genre, dtype: int64"
            ]
          },
          "metadata": {},
          "execution_count": 14
        }
      ]
    },
    {
      "cell_type": "markdown",
      "source": [
        "Data Skewed two Male gender "
      ],
      "metadata": {
        "id": "7popGDl1q4AE"
      }
    },
    {
      "cell_type": "code",
      "source": [
        "df['Employee or Third Party'].value_counts()"
      ],
      "metadata": {
        "colab": {
          "base_uri": "https://localhost:8080/"
        },
        "id": "TYwM_5Mpq2rf",
        "outputId": "c157c613-03da-41a7-fdc0-cc2b5b03ebec"
      },
      "execution_count": 15,
      "outputs": [
        {
          "output_type": "execute_result",
          "data": {
            "text/plain": [
              "Third Party             189\n",
              "Employee                179\n",
              "Third Party (Remote)     57\n",
              "Name: Employee or Third Party, dtype: int64"
            ]
          },
          "metadata": {},
          "execution_count": 15
        }
      ]
    },
    {
      "cell_type": "code",
      "source": [
        "df['Critical Risk'].value_counts()"
      ],
      "metadata": {
        "colab": {
          "base_uri": "https://localhost:8080/"
        },
        "id": "nJiK0cIyrFdZ",
        "outputId": "37e56370-033c-43f2-97f6-4f0a2eac7381"
      },
      "execution_count": 16,
      "outputs": [
        {
          "output_type": "execute_result",
          "data": {
            "text/plain": [
              "Others                                       232\n",
              "Pressed                                       24\n",
              "Manual Tools                                  20\n",
              "Chemical substances                           17\n",
              "Venomous Animals                              16\n",
              "Cut                                           14\n",
              "Projection                                    13\n",
              "Bees                                          10\n",
              "Fall                                           9\n",
              "Vehicles and Mobile Equipment                  8\n",
              "Fall prevention (same level)                   7\n",
              "remains of choco                               7\n",
              "Pressurized Systems                            7\n",
              "Fall prevention                                6\n",
              "Suspended Loads                                6\n",
              "Blocking and isolation of energies             3\n",
              "Pressurized Systems / Chemical Substances      3\n",
              "Power lock                                     3\n",
              "Liquid Metal                                   3\n",
              "Projection of fragments                        2\n",
              "Machine Protection                             2\n",
              "Electrical Shock                               2\n",
              "Individual protection equipment                1\n",
              "Projection/Manual Tools                        1\n",
              "Burn                                           1\n",
              "Poll                                           1\n",
              "Projection/Choco                               1\n",
              "Projection/Burning                             1\n",
              "Plates                                         1\n",
              "Confined space                                 1\n",
              "Traffic                                        1\n",
              "\\nNot applicable                               1\n",
              "Electrical installation                        1\n",
              "Name: Critical Risk, dtype: int64"
            ]
          },
          "metadata": {},
          "execution_count": 16
        }
      ]
    },
    {
      "cell_type": "code",
      "source": [
        "df['Description_Length']=df['Description'].str.len()"
      ],
      "metadata": {
        "id": "iAtLU44mrWiw"
      },
      "execution_count": 18,
      "outputs": []
    },
    {
      "cell_type": "code",
      "source": [
        "df['Description_Length']"
      ],
      "metadata": {
        "colab": {
          "base_uri": "https://localhost:8080/"
        },
        "id": "rHNzAc_Ar4GL",
        "outputId": "4b344538-31f1-4b38-8de7-309d2206e75d"
      },
      "execution_count": 19,
      "outputs": [
        {
          "output_type": "execute_result",
          "data": {
            "text/plain": [
              "0      457\n",
              "1      307\n",
              "2      314\n",
              "3      562\n",
              "4      487\n",
              "      ... \n",
              "420    220\n",
              "421    219\n",
              "422    251\n",
              "423    187\n",
              "424    208\n",
              "Name: Description_Length, Length: 425, dtype: int64"
            ]
          },
          "metadata": {},
          "execution_count": 19
        }
      ]
    },
    {
      "cell_type": "code",
      "source": [
        "import seaborn as sns\n",
        "import matplotlib.pyplot as plt"
      ],
      "metadata": {
        "id": "NwaDts_WsIUR"
      },
      "execution_count": 20,
      "outputs": []
    },
    {
      "cell_type": "code",
      "source": [
        "df.Description_Length.plot.density(color='green')\n",
        "plt.title('Density plot for Description_Length')\n",
        "plt.show()"
      ],
      "metadata": {
        "colab": {
          "base_uri": "https://localhost:8080/",
          "height": 281
        },
        "id": "Cy0rE9N-sae1",
        "outputId": "66a56454-c2f2-4b35-cb90-8fa65bcf47f9"
      },
      "execution_count": 22,
      "outputs": [
        {
          "output_type": "display_data",
          "data": {
            "text/plain": [
              "<Figure size 432x288 with 1 Axes>"
            ],
            "image/png": "[encoded data removed]"
          },
          "metadata": {
            "needs_background": "light"
          }
        }
      ]
    },
    {
      "cell_type": "code",
      "source": [
        "sns.boxplot(x=df[\"Description_Length\"])\n",
        "plt.title('Boxplot plot for Description_Length')\n",
        "plt.show()"
      ],
      "metadata": {
        "colab": {
          "base_uri": "https://localhost:8080/",
          "height": 296
        },
        "id": "3Vf8UgTpswkZ",
        "outputId": "e89f55c9-d172-446b-ed93-1987f9b873b1"
      },
      "execution_count": 23,
      "outputs": [
        {
          "output_type": "display_data",
          "data": {
            "text/plain": [
              "<Figure size 432x288 with 1 Axes>"
            ],
            "image/png": "[encoded data removed]"
          },
          "metadata": {
            "needs_background": "light"
          }
        }
      ]
    },
    {
      "cell_type": "markdown",
      "source": [
        "most of values between 200-400\n"
      ],
      "metadata": {
        "id": "8_RaKtLktLNa"
      }
    },
    {
      "cell_type": "code",
      "source": [
        " "
      ],
      "metadata": {
        "id": "oJ4jibAHtFKK"
      },
      "execution_count": null,
      "outputs": []
    }
  ]
}