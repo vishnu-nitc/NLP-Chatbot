{
 "cells": [
  {
   "cell_type": "markdown",
   "id": "6ce4566d",
   "metadata": {},
   "source": [
    "1.Milestone \n",
    "\n",
    "1:[ Score: 40 points ] Input: Context and Dataset‣Process:\n",
    "\n",
    "Step 1: Import the data [ 3 points ]"
   ]
  },
  {
   "cell_type": "code",
   "execution_count": 138,
   "id": "fc469114",
   "metadata": {},
   "outputs": [
    {
     "data": {
      "text/plain": [
       "True"
      ]
     },
     "execution_count": 138,
     "metadata": {},
     "output_type": "execute_result"
    }
   ],
   "source": [
    "#import libraries \n",
    "import numpy as np\n",
    "import pandas as pd\n",
    "import re \n",
    "import nltk \n",
    "import keras\n",
    "import tensorflow as tf\n",
    "from tensorflow import keras\n",
    "import os\n",
    "from __future__ import print_function\n",
    "from keras.preprocessing import sequence\n",
    "from keras.models import Sequential\n",
    "from keras.layers import Dense, Embedding\n",
    "from keras.layers import LSTM\n",
    "import random\n",
    "import json\n",
    "import pickle\n",
    "from nltk.stem import WordNetLemmatizer\n",
    "from tensorflow.keras.models import load_model\n",
    "import string\n",
    "from nltk.stem.wordnet import WordNetLemmatizer\n",
    "from nltk.stem import PorterStemmer\n",
    "import string\n",
    "from nltk.corpus import stopwords\n",
    "from nltk.tokenize import RegexpTokenizer\n",
    "from sklearn.model_selection import train_test_split\n",
    "from sklearn.feature_extraction.text import CountVectorizer\n",
    "from sklearn.feature_extraction.text import TfidfVectorizer\n",
    "from sklearn.manifold import TSNE\n",
    "from sklearn.metrics.pairwise import cosine_similarity\n",
    "import matplotlib.pyplot as plt\n",
    "# nltk downloaded (run only once)\n",
    "nltk.download('stopwords',quiet=True) # stopword library\n",
    "nltk.download('wordnet', quiet=True) # wordnet library\n",
    "nltk.download('words', quiet=True) # words library\n",
    "nltk.download('punkt', quiet=True) # tokenize library"
   ]
  },
  {
   "cell_type": "code",
   "execution_count": 128,
   "id": "934dbc60",
   "metadata": {},
   "outputs": [],
   "source": [
    "#Import data\n",
    "project_path = 'C:/Users/OmSai/Documents/NLP Chatbot dataset/'\n",
    "import pandas as pd\n",
    "data = pd.read_csv( project_path + 'Data Set - industrial_safety_and_health_database_with_accidents_description.csv')"
   ]
  },
  {
   "cell_type": "code",
   "execution_count": 129,
   "id": "18350127",
   "metadata": {},
   "outputs": [],
   "source": [
    "#Dropped Unnamed and unimportant column\n",
    "data.drop(['Unnamed: 0'], axis=1, inplace=True)\n",
    "data.drop(['Genre'], axis=1, inplace=True)"
   ]
  },
  {
   "cell_type": "markdown",
   "id": "5e2a81ae",
   "metadata": {},
   "source": [
    "Step 2: Data cleansing [ 5 points ]"
   ]
  },
  {
   "cell_type": "code",
   "execution_count": 130,
   "id": "e1a105aa",
   "metadata": {},
   "outputs": [
    {
     "name": "stdout",
     "output_type": "stream",
     "text": [
      "<class 'pandas.core.frame.DataFrame'>\n",
      "RangeIndex: 425 entries, 0 to 424\n",
      "Data columns (total 9 columns):\n",
      " #   Column                    Non-Null Count  Dtype \n",
      "---  ------                    --------------  ----- \n",
      " 0   Data                      425 non-null    object\n",
      " 1   Countries                 425 non-null    object\n",
      " 2   Local                     425 non-null    object\n",
      " 3   Industry Sector           425 non-null    object\n",
      " 4   Accident Level            425 non-null    object\n",
      " 5   Potential Accident Level  425 non-null    object\n",
      " 6   Employee or Third Party   425 non-null    object\n",
      " 7   Critical Risk             425 non-null    object\n",
      " 8   Description               425 non-null    object\n",
      "dtypes: object(9)\n",
      "memory usage: 30.0+ KB\n"
     ]
    }
   ],
   "source": [
    "#Data overview\n",
    "data.info()"
   ]
  },
  {
   "cell_type": "code",
   "execution_count": 141,
   "id": "22b04167",
   "metadata": {},
   "outputs": [],
   "source": [
    "#Rename column with meaningful label\n",
    "data.rename(columns = {'Data':'Date & Timestamp'}, inplace = True)"
   ]
  },
  {
   "cell_type": "code",
   "execution_count": 142,
   "id": "f81b9e99",
   "metadata": {},
   "outputs": [
    {
     "data": {
      "text/html": [
       "<div>\n",
       "<style scoped>\n",
       "    .dataframe tbody tr th:only-of-type {\n",
       "        vertical-align: middle;\n",
       "    }\n",
       "\n",
       "    .dataframe tbody tr th {\n",
       "        vertical-align: top;\n",
       "    }\n",
       "\n",
       "    .dataframe thead th {\n",
       "        text-align: right;\n",
       "    }\n",
       "</style>\n",
       "<table border=\"1\" class=\"dataframe\">\n",
       "  <thead>\n",
       "    <tr style=\"text-align: right;\">\n",
       "      <th></th>\n",
       "      <th>Date &amp; Timestamp</th>\n",
       "      <th>Countries</th>\n",
       "      <th>Local</th>\n",
       "      <th>Industry Sector</th>\n",
       "      <th>Accident Level</th>\n",
       "      <th>Potential Accident Level</th>\n",
       "      <th>Employee or Third Party</th>\n",
       "      <th>Critical Risk</th>\n",
       "      <th>Description</th>\n",
       "    </tr>\n",
       "  </thead>\n",
       "  <tbody>\n",
       "    <tr>\n",
       "      <th>count</th>\n",
       "      <td>418</td>\n",
       "      <td>418</td>\n",
       "      <td>418</td>\n",
       "      <td>418</td>\n",
       "      <td>418</td>\n",
       "      <td>418</td>\n",
       "      <td>418</td>\n",
       "      <td>418</td>\n",
       "      <td>418</td>\n",
       "    </tr>\n",
       "    <tr>\n",
       "      <th>unique</th>\n",
       "      <td>287</td>\n",
       "      <td>3</td>\n",
       "      <td>12</td>\n",
       "      <td>3</td>\n",
       "      <td>5</td>\n",
       "      <td>6</td>\n",
       "      <td>3</td>\n",
       "      <td>33</td>\n",
       "      <td>411</td>\n",
       "    </tr>\n",
       "    <tr>\n",
       "      <th>top</th>\n",
       "      <td>2017-02-08 00:00:00</td>\n",
       "      <td>Country_01</td>\n",
       "      <td>Local_03</td>\n",
       "      <td>Mining</td>\n",
       "      <td>I</td>\n",
       "      <td>IV</td>\n",
       "      <td>Third Party</td>\n",
       "      <td>Others</td>\n",
       "      <td>During the activity of chuteo of ore in hopper...</td>\n",
       "    </tr>\n",
       "    <tr>\n",
       "      <th>freq</th>\n",
       "      <td>6</td>\n",
       "      <td>248</td>\n",
       "      <td>89</td>\n",
       "      <td>237</td>\n",
       "      <td>309</td>\n",
       "      <td>141</td>\n",
       "      <td>185</td>\n",
       "      <td>229</td>\n",
       "      <td>2</td>\n",
       "    </tr>\n",
       "  </tbody>\n",
       "</table>\n",
       "</div>"
      ],
      "text/plain": [
       "           Date & Timestamp   Countries     Local Industry Sector  \\\n",
       "count                   418         418       418             418   \n",
       "unique                  287           3        12               3   \n",
       "top     2017-02-08 00:00:00  Country_01  Local_03          Mining   \n",
       "freq                      6         248        89             237   \n",
       "\n",
       "       Accident Level Potential Accident Level Employee or Third Party  \\\n",
       "count             418                      418                     418   \n",
       "unique              5                        6                       3   \n",
       "top                 I                       IV             Third Party   \n",
       "freq              309                      141                     185   \n",
       "\n",
       "       Critical Risk                                        Description  \n",
       "count            418                                                418  \n",
       "unique            33                                                411  \n",
       "top           Others  During the activity of chuteo of ore in hopper...  \n",
       "freq             229                                                  2  "
      ]
     },
     "execution_count": 142,
     "metadata": {},
     "output_type": "execute_result"
    }
   ],
   "source": [
    "#Data overview\n",
    "data.describe()"
   ]
  },
  {
   "cell_type": "code",
   "execution_count": 143,
   "id": "7dbef33d",
   "metadata": {},
   "outputs": [
    {
     "data": {
      "text/plain": [
       "Date & Timestamp            False\n",
       "Countries                   False\n",
       "Local                       False\n",
       "Industry Sector             False\n",
       "Accident Level              False\n",
       "Potential Accident Level    False\n",
       "Employee or Third Party     False\n",
       "Critical Risk               False\n",
       "Description                 False\n",
       "dtype: bool"
      ]
     },
     "execution_count": 143,
     "metadata": {},
     "output_type": "execute_result"
    }
   ],
   "source": [
    "#Null values checks\n",
    "data.isna().any()"
   ]
  },
  {
   "cell_type": "code",
   "execution_count": 144,
   "id": "9a7cdc36",
   "metadata": {},
   "outputs": [
    {
     "data": {
      "text/plain": [
       "Date & Timestamp            False\n",
       "Countries                   False\n",
       "Local                       False\n",
       "Industry Sector             False\n",
       "Accident Level              False\n",
       "Potential Accident Level    False\n",
       "Employee or Third Party     False\n",
       "Critical Risk               False\n",
       "Description                 False\n",
       "dtype: bool"
      ]
     },
     "execution_count": 144,
     "metadata": {},
     "output_type": "execute_result"
    }
   ],
   "source": [
    "#Null values checks\n",
    "data.isnull().any()"
   ]
  },
  {
   "cell_type": "code",
   "execution_count": 145,
   "id": "ea3e7c1a",
   "metadata": {},
   "outputs": [
    {
     "data": {
      "text/plain": [
       "False"
      ]
     },
     "execution_count": 145,
     "metadata": {},
     "output_type": "execute_result"
    }
   ],
   "source": [
    "#Duplicate values checks\n",
    "data.duplicated().any()"
   ]
  },
  {
   "cell_type": "code",
   "execution_count": 146,
   "id": "aa1a582d",
   "metadata": {},
   "outputs": [],
   "source": [
    "#Dropped Duplicate rows\n",
    "data.drop_duplicates(subset=None, keep='first', inplace=True, ignore_index=False)"
   ]
  },
  {
   "cell_type": "code",
   "execution_count": 154,
   "id": "7c09c63a",
   "metadata": {},
   "outputs": [],
   "source": [
    "# plt.bar(data['Industry Sector'],data['Accident Level'])\n",
    "# plt.title('Accident severity w.r.t. Industry sector')\n",
    "# plt.xlabel('Industry Sector')\n",
    "# plt.ylabel('Accident Level')\n",
    "# plt.show()"
   ]
  },
  {
   "cell_type": "markdown",
   "id": "54902c4c",
   "metadata": {},
   "source": [
    "Step 3: Data preprocessing (NLP Preprocessing techniques) [ 7 points ]"
   ]
  },
  {
   "cell_type": "code",
   "execution_count": 148,
   "id": "a42b6286",
   "metadata": {},
   "outputs": [],
   "source": [
    "#Preprocessing with NLP\n",
    "def remove_punctuation(text):\n",
    "    return re.sub('[^a-zA-Z]', ' ', str(text))\n",
    "\n",
    "def lower_case(text):\n",
    "    return text.lower()    \n",
    "\n",
    "def remove_tags(text):    \n",
    "    return re.sub(\"&lt;/?.*?&gt;\",\" &lt;&gt; \", text)\n",
    "\n",
    "def remove_special_chars_and_digits(text):\n",
    "    return re.sub(\"(\\\\d|\\\\W)+\",\" \", text)\n",
    "\n",
    "def stopword_lemma(text):\n",
    "    token = nltk.word_tokenize(text)\n",
    "    text_stop = [x for x in token if x not in set(stopwords.words('english'))]\n",
    "    lemmatizer = WordNetLemmatizer()\n",
    "    text_lemma = [lemmatizer.lemmatize(word) for word in text_stop]\n",
    "    text_lemma = ' '.join(text_lemma)\n",
    "    return text_lemma\n",
    "\n",
    "\n",
    "def normalize_text(text: str) -> str:\n",
    "    text = remove_punctuation(text)\n",
    "    text = lower_case(text)\n",
    "    text = remove_tags(text)\n",
    "    text = remove_special_chars_and_digits(text)\n",
    "    text = stopword_lemma(text)\n",
    "    \n",
    "    return text"
   ]
  },
  {
   "cell_type": "code",
   "execution_count": 149,
   "id": "f3673bc1",
   "metadata": {},
   "outputs": [],
   "source": [
    "data['normalized_Description'] = data['Description'].apply(normalize_text)"
   ]
  },
  {
   "cell_type": "code",
   "execution_count": 150,
   "id": "21f7ae6a",
   "metadata": {},
   "outputs": [
    {
     "data": {
      "text/html": [
       "<div>\n",
       "<style scoped>\n",
       "    .dataframe tbody tr th:only-of-type {\n",
       "        vertical-align: middle;\n",
       "    }\n",
       "\n",
       "    .dataframe tbody tr th {\n",
       "        vertical-align: top;\n",
       "    }\n",
       "\n",
       "    .dataframe thead th {\n",
       "        text-align: right;\n",
       "    }\n",
       "</style>\n",
       "<table border=\"1\" class=\"dataframe\">\n",
       "  <thead>\n",
       "    <tr style=\"text-align: right;\">\n",
       "      <th></th>\n",
       "      <th>Date &amp; Timestamp</th>\n",
       "      <th>Countries</th>\n",
       "      <th>Local</th>\n",
       "      <th>Industry Sector</th>\n",
       "      <th>Accident Level</th>\n",
       "      <th>Potential Accident Level</th>\n",
       "      <th>Employee or Third Party</th>\n",
       "      <th>Critical Risk</th>\n",
       "      <th>Description</th>\n",
       "      <th>normalized_Description</th>\n",
       "    </tr>\n",
       "  </thead>\n",
       "  <tbody>\n",
       "    <tr>\n",
       "      <th>0</th>\n",
       "      <td>2016-01-01 00:00:00</td>\n",
       "      <td>Country_01</td>\n",
       "      <td>Local_01</td>\n",
       "      <td>Mining</td>\n",
       "      <td>I</td>\n",
       "      <td>IV</td>\n",
       "      <td>Third Party</td>\n",
       "      <td>Pressed</td>\n",
       "      <td>While removing the drill rod of the Jumbo 08 f...</td>\n",
       "      <td>removing drill rod jumbo maintenance superviso...</td>\n",
       "    </tr>\n",
       "    <tr>\n",
       "      <th>1</th>\n",
       "      <td>2016-01-02 00:00:00</td>\n",
       "      <td>Country_02</td>\n",
       "      <td>Local_02</td>\n",
       "      <td>Mining</td>\n",
       "      <td>I</td>\n",
       "      <td>IV</td>\n",
       "      <td>Employee</td>\n",
       "      <td>Pressurized Systems</td>\n",
       "      <td>During the activation of a sodium sulphide pum...</td>\n",
       "      <td>activation sodium sulphide pump piping uncoupl...</td>\n",
       "    </tr>\n",
       "    <tr>\n",
       "      <th>2</th>\n",
       "      <td>2016-01-06 00:00:00</td>\n",
       "      <td>Country_01</td>\n",
       "      <td>Local_03</td>\n",
       "      <td>Mining</td>\n",
       "      <td>I</td>\n",
       "      <td>III</td>\n",
       "      <td>Third Party (Remote)</td>\n",
       "      <td>Manual Tools</td>\n",
       "      <td>In the sub-station MILPO located at level +170...</td>\n",
       "      <td>sub station milpo located level collaborator e...</td>\n",
       "    </tr>\n",
       "    <tr>\n",
       "      <th>3</th>\n",
       "      <td>2016-01-08 00:00:00</td>\n",
       "      <td>Country_01</td>\n",
       "      <td>Local_04</td>\n",
       "      <td>Mining</td>\n",
       "      <td>I</td>\n",
       "      <td>I</td>\n",
       "      <td>Third Party</td>\n",
       "      <td>Others</td>\n",
       "      <td>Being 9:45 am. approximately in the Nv. 1880 C...</td>\n",
       "      <td>approximately nv cx ob personnel begin task un...</td>\n",
       "    </tr>\n",
       "    <tr>\n",
       "      <th>4</th>\n",
       "      <td>2016-01-10 00:00:00</td>\n",
       "      <td>Country_01</td>\n",
       "      <td>Local_04</td>\n",
       "      <td>Mining</td>\n",
       "      <td>IV</td>\n",
       "      <td>IV</td>\n",
       "      <td>Third Party</td>\n",
       "      <td>Others</td>\n",
       "      <td>Approximately at 11:45 a.m. in circumstances t...</td>\n",
       "      <td>approximately circumstance mechanic anthony gr...</td>\n",
       "    </tr>\n",
       "    <tr>\n",
       "      <th>...</th>\n",
       "      <td>...</td>\n",
       "      <td>...</td>\n",
       "      <td>...</td>\n",
       "      <td>...</td>\n",
       "      <td>...</td>\n",
       "      <td>...</td>\n",
       "      <td>...</td>\n",
       "      <td>...</td>\n",
       "      <td>...</td>\n",
       "      <td>...</td>\n",
       "    </tr>\n",
       "    <tr>\n",
       "      <th>420</th>\n",
       "      <td>2017-07-04 00:00:00</td>\n",
       "      <td>Country_01</td>\n",
       "      <td>Local_04</td>\n",
       "      <td>Mining</td>\n",
       "      <td>I</td>\n",
       "      <td>III</td>\n",
       "      <td>Third Party</td>\n",
       "      <td>Others</td>\n",
       "      <td>Being approximately 5:00 a.m. approximately, w...</td>\n",
       "      <td>approximately approximately lifting kelly hq t...</td>\n",
       "    </tr>\n",
       "    <tr>\n",
       "      <th>421</th>\n",
       "      <td>2017-07-04 00:00:00</td>\n",
       "      <td>Country_01</td>\n",
       "      <td>Local_03</td>\n",
       "      <td>Mining</td>\n",
       "      <td>I</td>\n",
       "      <td>II</td>\n",
       "      <td>Employee</td>\n",
       "      <td>Others</td>\n",
       "      <td>The collaborator moved from the infrastructure...</td>\n",
       "      <td>collaborator moved infrastructure office julio...</td>\n",
       "    </tr>\n",
       "    <tr>\n",
       "      <th>422</th>\n",
       "      <td>2017-07-05 00:00:00</td>\n",
       "      <td>Country_02</td>\n",
       "      <td>Local_09</td>\n",
       "      <td>Metals</td>\n",
       "      <td>I</td>\n",
       "      <td>II</td>\n",
       "      <td>Employee</td>\n",
       "      <td>Venomous Animals</td>\n",
       "      <td>During the environmental monitoring activity i...</td>\n",
       "      <td>environmental monitoring activity area employe...</td>\n",
       "    </tr>\n",
       "    <tr>\n",
       "      <th>423</th>\n",
       "      <td>2017-07-06 00:00:00</td>\n",
       "      <td>Country_02</td>\n",
       "      <td>Local_05</td>\n",
       "      <td>Metals</td>\n",
       "      <td>I</td>\n",
       "      <td>II</td>\n",
       "      <td>Employee</td>\n",
       "      <td>Cut</td>\n",
       "      <td>The Employee performed the activity of strippi...</td>\n",
       "      <td>employee performed activity stripping cathode ...</td>\n",
       "    </tr>\n",
       "    <tr>\n",
       "      <th>424</th>\n",
       "      <td>2017-07-09 00:00:00</td>\n",
       "      <td>Country_01</td>\n",
       "      <td>Local_04</td>\n",
       "      <td>Mining</td>\n",
       "      <td>I</td>\n",
       "      <td>II</td>\n",
       "      <td>Third Party</td>\n",
       "      <td>Fall prevention (same level)</td>\n",
       "      <td>At 10:00 a.m., when the assistant cleaned the ...</td>\n",
       "      <td>assistant cleaned floor module e central camp ...</td>\n",
       "    </tr>\n",
       "  </tbody>\n",
       "</table>\n",
       "<p>418 rows × 10 columns</p>\n",
       "</div>"
      ],
      "text/plain": [
       "        Date & Timestamp   Countries     Local Industry Sector Accident Level  \\\n",
       "0    2016-01-01 00:00:00  Country_01  Local_01          Mining              I   \n",
       "1    2016-01-02 00:00:00  Country_02  Local_02          Mining              I   \n",
       "2    2016-01-06 00:00:00  Country_01  Local_03          Mining              I   \n",
       "3    2016-01-08 00:00:00  Country_01  Local_04          Mining              I   \n",
       "4    2016-01-10 00:00:00  Country_01  Local_04          Mining             IV   \n",
       "..                   ...         ...       ...             ...            ...   \n",
       "420  2017-07-04 00:00:00  Country_01  Local_04          Mining              I   \n",
       "421  2017-07-04 00:00:00  Country_01  Local_03          Mining              I   \n",
       "422  2017-07-05 00:00:00  Country_02  Local_09          Metals              I   \n",
       "423  2017-07-06 00:00:00  Country_02  Local_05          Metals              I   \n",
       "424  2017-07-09 00:00:00  Country_01  Local_04          Mining              I   \n",
       "\n",
       "    Potential Accident Level Employee or Third Party  \\\n",
       "0                         IV             Third Party   \n",
       "1                         IV                Employee   \n",
       "2                        III    Third Party (Remote)   \n",
       "3                          I             Third Party   \n",
       "4                         IV             Third Party   \n",
       "..                       ...                     ...   \n",
       "420                      III             Third Party   \n",
       "421                       II                Employee   \n",
       "422                       II                Employee   \n",
       "423                       II                Employee   \n",
       "424                       II             Third Party   \n",
       "\n",
       "                    Critical Risk  \\\n",
       "0                         Pressed   \n",
       "1             Pressurized Systems   \n",
       "2                    Manual Tools   \n",
       "3                          Others   \n",
       "4                          Others   \n",
       "..                            ...   \n",
       "420                        Others   \n",
       "421                        Others   \n",
       "422              Venomous Animals   \n",
       "423                           Cut   \n",
       "424  Fall prevention (same level)   \n",
       "\n",
       "                                           Description  \\\n",
       "0    While removing the drill rod of the Jumbo 08 f...   \n",
       "1    During the activation of a sodium sulphide pum...   \n",
       "2    In the sub-station MILPO located at level +170...   \n",
       "3    Being 9:45 am. approximately in the Nv. 1880 C...   \n",
       "4    Approximately at 11:45 a.m. in circumstances t...   \n",
       "..                                                 ...   \n",
       "420  Being approximately 5:00 a.m. approximately, w...   \n",
       "421  The collaborator moved from the infrastructure...   \n",
       "422  During the environmental monitoring activity i...   \n",
       "423  The Employee performed the activity of strippi...   \n",
       "424  At 10:00 a.m., when the assistant cleaned the ...   \n",
       "\n",
       "                                normalized_Description  \n",
       "0    removing drill rod jumbo maintenance superviso...  \n",
       "1    activation sodium sulphide pump piping uncoupl...  \n",
       "2    sub station milpo located level collaborator e...  \n",
       "3    approximately nv cx ob personnel begin task un...  \n",
       "4    approximately circumstance mechanic anthony gr...  \n",
       "..                                                 ...  \n",
       "420  approximately approximately lifting kelly hq t...  \n",
       "421  collaborator moved infrastructure office julio...  \n",
       "422  environmental monitoring activity area employe...  \n",
       "423  employee performed activity stripping cathode ...  \n",
       "424  assistant cleaned floor module e central camp ...  \n",
       "\n",
       "[418 rows x 10 columns]"
      ]
     },
     "execution_count": 150,
     "metadata": {},
     "output_type": "execute_result"
    }
   ],
   "source": [
    "data"
   ]
  },
  {
   "cell_type": "markdown",
   "id": "06688568",
   "metadata": {},
   "source": [
    "Step 4: Data preparation - Cleansed data in .xlsx or .csv file [ 5 points ]"
   ]
  },
  {
   "cell_type": "code",
   "execution_count": 123,
   "id": "a88aa6a9",
   "metadata": {},
   "outputs": [
    {
     "data": {
      "text/plain": [
       "(418, 2774)"
      ]
     },
     "execution_count": 123,
     "metadata": {},
     "output_type": "execute_result"
    }
   ],
   "source": [
    "#Defining TF-IDF\n",
    "vectorizer_tfidf = TfidfVectorizer(stop_words = set(nltk.corpus.stopwords.words('english')))\n",
    "tfidf = vectorizer_tfidf.fit_transform(data.normalized_Description)\n",
    "tfidf.shape "
   ]
  },
  {
   "cell_type": "code",
   "execution_count": 124,
   "id": "d5412e5d",
   "metadata": {},
   "outputs": [],
   "source": [
    "## Create Data Frame of tdidf scores\n",
    "tfidf_df = pd.DataFrame(tfidf.toarray(),\n",
    "             columns = vectorizer_tfidf.get_feature_names(),\n",
    "             index = data.index)"
   ]
  },
  {
   "cell_type": "code",
   "execution_count": 125,
   "id": "814c472c",
   "metadata": {},
   "outputs": [
    {
     "data": {
      "text/plain": [
       "employee    0.035995\n",
       "hand        0.032129\n",
       "causing     0.030099\n",
       "right       0.028796\n",
       "left        0.028697\n",
       "operator    0.026563\n",
       "activity    0.025298\n",
       "injury      0.022282\n",
       "time        0.021045\n",
       "pipe        0.020533\n",
       "dtype: float64"
      ]
     },
     "execution_count": 125,
     "metadata": {},
     "output_type": "execute_result"
    }
   ],
   "source": [
    "# Calculate tfidf for all columns and list top 10\n",
    "tfidf_df.mean().sort_values(ascending = False).head(10) "
   ]
  },
  {
   "cell_type": "markdown",
   "id": "4fced4a2",
   "metadata": {},
   "source": [
    "Step 5: Design train and test basic machine learning classifiers [ 10 Points ]"
   ]
  },
  {
   "cell_type": "code",
   "execution_count": 126,
   "id": "c7f07798",
   "metadata": {},
   "outputs": [
    {
     "name": "stdout",
     "output_type": "stream",
     "text": [
      "Training utterances: 355\n",
      "Validation utterances: 63\n",
      "Accuaracy Score : 0.5873015873015873\n"
     ]
    }
   ],
   "source": [
    "# Training the model\n",
    "\n",
    "## Train_Test Split\n",
    "X_train, X_test, y_train, y_test = train_test_split(data['normalized_Description'].values,data['Critical Risk'].values,test_size=0.15, random_state=42)\n",
    "print('Training utterances: {}'.format(X_train.shape[0]))\n",
    "print('Validation utterances: {}'.format(X_test.shape[0]))\n",
    "\n",
    "## TF-IDF Vectorizer\n",
    "vectorizer = TfidfVectorizer()\n",
    "vectorizer.fit(X_train)\n",
    "X_train = vectorizer.transform(X_train)\n",
    "X_test = vectorizer.transform(X_test)\n",
    "\n",
    "## Feature Selection\n",
    "from sklearn.feature_selection import SelectKBest, chi2\n",
    "ch2 = SelectKBest(chi2, k=2537)\n",
    "X_train = ch2.fit_transform(X_train, y_train)\n",
    "X_test = ch2.transform(X_test)\n",
    "\n",
    "## Model Testing\n",
    "from sklearn.naive_bayes import MultinomialNB\n",
    "from sklearn.metrics import accuracy_score\n",
    "model_mnb_m2 = MultinomialNB()\n",
    "model_mnb_m2.fit(X_train, y_train)\n",
    "pred = model_mnb_m2.predict(X_test)\n",
    "print(\"Accuaracy Score :\",accuracy_score(y_test, pred))"
   ]
  },
  {
   "cell_type": "markdown",
   "id": "f7830155",
   "metadata": {},
   "source": [
    "Step 6: Interim report [ 10 points ]."
   ]
  },
  {
   "cell_type": "code",
   "execution_count": null,
   "id": "785bc43a",
   "metadata": {},
   "outputs": [],
   "source": []
  }
 ],
 "metadata": {
  "kernelspec": {
   "display_name": "Python 3 (ipykernel)",
   "language": "python",
   "name": "python3"
  },
  "language_info": {
   "codemirror_mode": {
    "name": "ipython",
    "version": 3
   },
   "file_extension": ".py",
   "mimetype": "text/x-python",
   "name": "python",
   "nbconvert_exporter": "python",
   "pygments_lexer": "ipython3",
   "version": "3.9.7"
  }
 },
 "nbformat": 4,
 "nbformat_minor": 5
}
